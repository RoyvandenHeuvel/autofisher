{
 "metadata": {
  "language_info": {
   "codemirror_mode": {
    "name": "ipython",
    "version": 3
   },
   "file_extension": ".py",
   "mimetype": "text/x-python",
   "name": "python",
   "nbconvert_exporter": "python",
   "pygments_lexer": "ipython3",
   "version": "3.9.0-final"
  },
  "orig_nbformat": 2,
  "kernelspec": {
   "name": "Python 3.9.0 64-bit",
   "display_name": "Python 3.9.0 64-bit",
   "metadata": {
    "interpreter": {
     "hash": "34156a056a4d061230197e37caa02aff49ba34ffbdff64b5a4467c7dd876c8a6"
    }
   }
  }
 },
 "nbformat": 4,
 "nbformat_minor": 2,
 "cells": [
  {
   "cell_type": "code",
   "execution_count": 62,
   "metadata": {},
   "outputs": [
    {
     "output_type": "stream",
     "name": "stdout",
     "text": [
      "Left-click the top-left of experience bar.\n",
      "Left-click the bottom-right of experience bar.\n"
     ]
    }
   ],
   "source": [
    "from pyautogui import position, Point\n",
    "from win32api import GetKeyState\n",
    "from time import sleep\n",
    "\n",
    "topLeft = None\n",
    "newState = None\n",
    "oldState = None\n",
    "\n",
    "sleep(1)\n",
    "print(\"Left-click the top-left of experience bar.\")\n",
    "while topLeft is None:\n",
    "    newState = GetKeyState(0x01)\n",
    "\n",
    "    if newState != oldState:\n",
    "        oldState = newState\n",
    "\n",
    "        if newState < -1:\n",
    "            topLeft = position()\n",
    "\n",
    "\n",
    "\n",
    "bottomRight = None\n",
    "newState = None\n",
    "oldState = None\n",
    "\n",
    "sleep(1)\n",
    "print(\"Left-click the bottom-right of experience bar.\")\n",
    "while bottomRight is None:\n",
    "    newState = GetKeyState(0x01)\n",
    "\n",
    "    if newState != oldState:\n",
    "        oldState = newState\n",
    "\n",
    "        if newState < -1:\n",
    "            bottomRight = position()\n"
   ]
  },
  {
   "cell_type": "code",
   "execution_count": 63,
   "metadata": {},
   "outputs": [],
   "source": [
    "selectionBox = (topLeft.x, topLeft.y, bottomRight.x, bottomRight.y)"
   ]
  },
  {
   "source": [
    "from time import sleep\n",
    "from pyscreenshot import grab\n",
    "from PIL import ImageChops\n",
    "from mouse import click\n",
    "from win32api import GetKeyState\n",
    "from win32con import VK_ESCAPE\n",
    "\n",
    "pollsPerSecond: int = 1\n",
    "frameRate: int = 60\n",
    "\n",
    "while True:\n",
    "    initialFrame = grab(selectionBox)\n",
    "\n",
    "    sleep((pollsPerSecond / frameRate))\n",
    "\n",
    "    secondaryFrame = grab(selectionBox)\n",
    "\n",
    "    difference = ImageChops.difference(initialFrame, secondaryFrame)\n",
    "\n",
    "    differenceBox = difference.getbbox()\n",
    "\n",
    "    if differenceBox is not None:\n",
    "        print('Ooh, a fishy!')\n",
    "        click('right')\n",
    "\n",
    "    if GetKeyState(VK_ESCAPE) < -1:\n",
    "        print('Stopping autofisher...')\n",
    "        break\n",
    "\n"
   ],
   "cell_type": "code",
   "metadata": {},
   "execution_count": 64,
   "outputs": [
    {
     "output_type": "stream",
     "name": "stdout",
     "text": [
      "Ooh, a fishy!\n",
      "Ooh, a fishy!\n",
      "Ooh, a fishy!\n",
      "Ooh, a fishy!\n",
      "Ooh, a fishy!\n",
      "Ooh, a fishy!\n",
      "Ooh, a fishy!\n",
      "Ooh, a fishy!\n",
      "Ooh, a fishy!\n",
      "Ooh, a fishy!\n",
      "Ooh, a fishy!\n",
      "Ooh, a fishy!\n",
      "Ooh, a fishy!\n",
      "Ooh, a fishy!\n",
      "Ooh, a fishy!\n",
      "Ooh, a fishy!\n"
     ]
    },
    {
     "output_type": "error",
     "ename": "KeyboardInterrupt",
     "evalue": "",
     "traceback": [
      "\u001b[1;31m---------------------------------------------------------------------------\u001b[0m",
      "\u001b[1;31mKeyboardInterrupt\u001b[0m                         Traceback (most recent call last)",
      "\u001b[1;32m<ipython-input-64-a9de21f0e761>\u001b[0m in \u001b[0;36m<module>\u001b[1;34m\u001b[0m\n\u001b[0;32m     16\u001b[0m     \u001b[0msecondaryFrame\u001b[0m \u001b[1;33m=\u001b[0m \u001b[0mgrab\u001b[0m\u001b[1;33m(\u001b[0m\u001b[0mselectionBox\u001b[0m\u001b[1;33m)\u001b[0m\u001b[1;33m\u001b[0m\u001b[1;33m\u001b[0m\u001b[0m\n\u001b[0;32m     17\u001b[0m \u001b[1;33m\u001b[0m\u001b[0m\n\u001b[1;32m---> 18\u001b[1;33m     \u001b[0mdifference\u001b[0m \u001b[1;33m=\u001b[0m \u001b[0mImageChops\u001b[0m\u001b[1;33m.\u001b[0m\u001b[0mdifference\u001b[0m\u001b[1;33m(\u001b[0m\u001b[0minitialFrame\u001b[0m\u001b[1;33m,\u001b[0m \u001b[0msecondaryFrame\u001b[0m\u001b[1;33m)\u001b[0m\u001b[1;33m\u001b[0m\u001b[1;33m\u001b[0m\u001b[0m\n\u001b[0m\u001b[0;32m     19\u001b[0m \u001b[1;33m\u001b[0m\u001b[0m\n\u001b[0;32m     20\u001b[0m     \u001b[0mdifferenceBox\u001b[0m \u001b[1;33m=\u001b[0m \u001b[0mdifference\u001b[0m\u001b[1;33m.\u001b[0m\u001b[0mgetbbox\u001b[0m\u001b[1;33m(\u001b[0m\u001b[1;33m)\u001b[0m\u001b[1;33m\u001b[0m\u001b[1;33m\u001b[0m\u001b[0m\n",
      "\u001b[1;32m~\\AppData\\Local\\Programs\\Python\\Python39\\lib\\site-packages\\PIL\\ImageChops.py\u001b[0m in \u001b[0;36mdifference\u001b[1;34m(image1, image2)\u001b[0m\n\u001b[0;32m     99\u001b[0m \u001b[1;33m\u001b[0m\u001b[0m\n\u001b[0;32m    100\u001b[0m     \u001b[0mimage1\u001b[0m\u001b[1;33m.\u001b[0m\u001b[0mload\u001b[0m\u001b[1;33m(\u001b[0m\u001b[1;33m)\u001b[0m\u001b[1;33m\u001b[0m\u001b[1;33m\u001b[0m\u001b[0m\n\u001b[1;32m--> 101\u001b[1;33m     \u001b[0mimage2\u001b[0m\u001b[1;33m.\u001b[0m\u001b[0mload\u001b[0m\u001b[1;33m(\u001b[0m\u001b[1;33m)\u001b[0m\u001b[1;33m\u001b[0m\u001b[1;33m\u001b[0m\u001b[0m\n\u001b[0m\u001b[0;32m    102\u001b[0m     \u001b[1;32mreturn\u001b[0m \u001b[0mimage1\u001b[0m\u001b[1;33m.\u001b[0m\u001b[0m_new\u001b[0m\u001b[1;33m(\u001b[0m\u001b[0mimage1\u001b[0m\u001b[1;33m.\u001b[0m\u001b[0mim\u001b[0m\u001b[1;33m.\u001b[0m\u001b[0mchop_difference\u001b[0m\u001b[1;33m(\u001b[0m\u001b[0mimage2\u001b[0m\u001b[1;33m.\u001b[0m\u001b[0mim\u001b[0m\u001b[1;33m)\u001b[0m\u001b[1;33m)\u001b[0m\u001b[1;33m\u001b[0m\u001b[1;33m\u001b[0m\u001b[0m\n\u001b[0;32m    103\u001b[0m \u001b[1;33m\u001b[0m\u001b[0m\n",
      "\u001b[1;32m~\\AppData\\Local\\Programs\\Python\\Python39\\lib\\site-packages\\PIL\\ImageFile.py\u001b[0m in \u001b[0;36mload\u001b[1;34m(self)\u001b[0m\n\u001b[0;32m    263\u001b[0m \u001b[1;33m\u001b[0m\u001b[0m\n\u001b[0;32m    264\u001b[0m                             \u001b[0mb\u001b[0m \u001b[1;33m=\u001b[0m \u001b[0mb\u001b[0m \u001b[1;33m+\u001b[0m \u001b[0ms\u001b[0m\u001b[1;33m\u001b[0m\u001b[1;33m\u001b[0m\u001b[0m\n\u001b[1;32m--> 265\u001b[1;33m                             \u001b[0mn\u001b[0m\u001b[1;33m,\u001b[0m \u001b[0merr_code\u001b[0m \u001b[1;33m=\u001b[0m \u001b[0mdecoder\u001b[0m\u001b[1;33m.\u001b[0m\u001b[0mdecode\u001b[0m\u001b[1;33m(\u001b[0m\u001b[0mb\u001b[0m\u001b[1;33m)\u001b[0m\u001b[1;33m\u001b[0m\u001b[1;33m\u001b[0m\u001b[0m\n\u001b[0m\u001b[0;32m    266\u001b[0m                             \u001b[1;32mif\u001b[0m \u001b[0mn\u001b[0m \u001b[1;33m<\u001b[0m \u001b[1;36m0\u001b[0m\u001b[1;33m:\u001b[0m\u001b[1;33m\u001b[0m\u001b[1;33m\u001b[0m\u001b[0m\n\u001b[0;32m    267\u001b[0m                                 \u001b[1;32mbreak\u001b[0m\u001b[1;33m\u001b[0m\u001b[1;33m\u001b[0m\u001b[0m\n",
      "\u001b[1;31mKeyboardInterrupt\u001b[0m: "
     ]
    }
   ]
  },
  {
   "cell_type": "code",
   "execution_count": null,
   "metadata": {},
   "outputs": [],
   "source": [
    "from time import sleep\n",
    "\n",
    "from mouse import click, on_left_click\n",
    "from PIL import ImageChops\n",
    "from pyautogui import Point, position\n",
    "from pyscreenshot import grab\n",
    "#import win32api\n",
    "from win32con import VK_ESCAPE\n",
    "\n",
    "topLeft = None\n",
    "# newState = None\n",
    "# oldState = None\n",
    "\n",
    "def setTopLeft(point: Point):\n",
    "    topLeft = point\n",
    "\n",
    "print(\"Left-click the top-left of experience bar.\")\n",
    "\n",
    "on_left_click(setTopLeft, position())\n",
    "\n",
    "while topLeft is None:\n",
    "    sleep(0.1)\n",
    "\n",
    "    # newState = win32api.GetKeyState(0x01)\n",
    "\n",
    "    # if newState != oldState:\n",
    "    #     oldState = newState\n",
    "\n",
    "    #     if newState < -1:\n",
    "    #         topLeft = position()\n",
    "\n",
    "\n",
    "\n",
    "bottomRight = None\n",
    "# newState = None\n",
    "# oldState = None\n",
    "\n",
    "\n",
    "\n",
    "sleep(1)\n",
    "\n",
    "\n",
    "on_left_click(setTopRight, position())\n",
    "print(\"Left-click the bottom-right of experience bar.\")\n",
    "while bottomRight is None:\n",
    "    sleep(0.1)\n",
    "    # newState = win32api.GetKeyState(0x01)\n",
    "\n",
    "    # if newState != oldState:\n",
    "    #     oldState = newState\n",
    "\n",
    "    #     if newState < -1:\n",
    "    #         bottomRight = position()\n",
    "\n",
    "selectionBox = (topLeft.x, topLeft.y, bottomRight.x, bottomRight.y)"
   ]
  },
  {
   "cell_type": "code",
   "execution_count": null,
   "metadata": {},
   "outputs": [],
   "source": []
  }
 ]
}